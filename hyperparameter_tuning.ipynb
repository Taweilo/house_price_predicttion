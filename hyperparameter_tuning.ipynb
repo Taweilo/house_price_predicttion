{
  "cells": [
    {
      "cell_type": "markdown",
      "metadata": {
        "id": "view-in-github",
        "colab_type": "text"
      },
      "source": [
        "<a href=\"https://colab.research.google.com/github/Taweilo/usa-house-price-prediction/blob/main/hyperparameter_tuning.ipynb\" target=\"_parent\"><img src=\"https://colab.research.google.com/assets/colab-badge.svg\" alt=\"Open In Colab\"/></a>"
      ]
    },
    {
      "cell_type": "code",
      "source": [
        "! pip install optuna\n",
        "! pip install catboost\n",
        "!pip uninstall -y scikit-learn\n",
        "!pip install scikit-learn==1.3.2"
      ],
      "metadata": {
        "colab": {
          "base_uri": "https://localhost:8080/"
        },
        "id": "d2ySWh5joXle",
        "outputId": "973c8097-1f02-4878-c72b-4256a6067bee"
      },
      "id": "d2ySWh5joXle",
      "execution_count": null,
      "outputs": [
        {
          "output_type": "stream",
          "name": "stdout",
          "text": [
            "Requirement already satisfied: optuna in /usr/local/lib/python3.11/dist-packages (4.2.0)\n",
            "Requirement already satisfied: alembic>=1.5.0 in /usr/local/lib/python3.11/dist-packages (from optuna) (1.14.1)\n",
            "Requirement already satisfied: colorlog in /usr/local/lib/python3.11/dist-packages (from optuna) (6.9.0)\n",
            "Requirement already satisfied: numpy in /usr/local/lib/python3.11/dist-packages (from optuna) (1.26.4)\n",
            "Requirement already satisfied: packaging>=20.0 in /usr/local/lib/python3.11/dist-packages (from optuna) (24.2)\n",
            "Requirement already satisfied: sqlalchemy>=1.4.2 in /usr/local/lib/python3.11/dist-packages (from optuna) (2.0.37)\n",
            "Requirement already satisfied: tqdm in /usr/local/lib/python3.11/dist-packages (from optuna) (4.67.1)\n",
            "Requirement already satisfied: PyYAML in /usr/local/lib/python3.11/dist-packages (from optuna) (6.0.2)\n",
            "Requirement already satisfied: Mako in /usr/local/lib/python3.11/dist-packages (from alembic>=1.5.0->optuna) (1.3.9)\n",
            "Requirement already satisfied: typing-extensions>=4 in /usr/local/lib/python3.11/dist-packages (from alembic>=1.5.0->optuna) (4.12.2)\n",
            "Requirement already satisfied: greenlet!=0.4.17 in /usr/local/lib/python3.11/dist-packages (from sqlalchemy>=1.4.2->optuna) (3.1.1)\n",
            "Requirement already satisfied: MarkupSafe>=0.9.2 in /usr/local/lib/python3.11/dist-packages (from Mako->alembic>=1.5.0->optuna) (3.0.2)\n",
            "Requirement already satisfied: catboost in /usr/local/lib/python3.11/dist-packages (1.2.7)\n",
            "Requirement already satisfied: graphviz in /usr/local/lib/python3.11/dist-packages (from catboost) (0.20.3)\n",
            "Requirement already satisfied: matplotlib in /usr/local/lib/python3.11/dist-packages (from catboost) (3.10.0)\n",
            "Requirement already satisfied: numpy<2.0,>=1.16.0 in /usr/local/lib/python3.11/dist-packages (from catboost) (1.26.4)\n",
            "Requirement already satisfied: pandas>=0.24 in /usr/local/lib/python3.11/dist-packages (from catboost) (2.2.2)\n",
            "Requirement already satisfied: scipy in /usr/local/lib/python3.11/dist-packages (from catboost) (1.13.1)\n",
            "Requirement already satisfied: plotly in /usr/local/lib/python3.11/dist-packages (from catboost) (5.24.1)\n",
            "Requirement already satisfied: six in /usr/local/lib/python3.11/dist-packages (from catboost) (1.17.0)\n",
            "Requirement already satisfied: python-dateutil>=2.8.2 in /usr/local/lib/python3.11/dist-packages (from pandas>=0.24->catboost) (2.8.2)\n",
            "Requirement already satisfied: pytz>=2020.1 in /usr/local/lib/python3.11/dist-packages (from pandas>=0.24->catboost) (2025.1)\n",
            "Requirement already satisfied: tzdata>=2022.7 in /usr/local/lib/python3.11/dist-packages (from pandas>=0.24->catboost) (2025.1)\n",
            "Requirement already satisfied: contourpy>=1.0.1 in /usr/local/lib/python3.11/dist-packages (from matplotlib->catboost) (1.3.1)\n",
            "Requirement already satisfied: cycler>=0.10 in /usr/local/lib/python3.11/dist-packages (from matplotlib->catboost) (0.12.1)\n",
            "Requirement already satisfied: fonttools>=4.22.0 in /usr/local/lib/python3.11/dist-packages (from matplotlib->catboost) (4.55.8)\n",
            "Requirement already satisfied: kiwisolver>=1.3.1 in /usr/local/lib/python3.11/dist-packages (from matplotlib->catboost) (1.4.8)\n",
            "Requirement already satisfied: packaging>=20.0 in /usr/local/lib/python3.11/dist-packages (from matplotlib->catboost) (24.2)\n",
            "Requirement already satisfied: pillow>=8 in /usr/local/lib/python3.11/dist-packages (from matplotlib->catboost) (11.1.0)\n",
            "Requirement already satisfied: pyparsing>=2.3.1 in /usr/local/lib/python3.11/dist-packages (from matplotlib->catboost) (3.2.1)\n",
            "Requirement already satisfied: tenacity>=6.2.0 in /usr/local/lib/python3.11/dist-packages (from plotly->catboost) (9.0.0)\n",
            "Found existing installation: scikit-learn 1.3.2\n",
            "Uninstalling scikit-learn-1.3.2:\n",
            "  Successfully uninstalled scikit-learn-1.3.2\n",
            "Collecting scikit-learn==1.3.2\n",
            "  Using cached scikit_learn-1.3.2-cp311-cp311-manylinux_2_17_x86_64.manylinux2014_x86_64.whl.metadata (11 kB)\n",
            "Requirement already satisfied: numpy<2.0,>=1.17.3 in /usr/local/lib/python3.11/dist-packages (from scikit-learn==1.3.2) (1.26.4)\n",
            "Requirement already satisfied: scipy>=1.5.0 in /usr/local/lib/python3.11/dist-packages (from scikit-learn==1.3.2) (1.13.1)\n",
            "Requirement already satisfied: joblib>=1.1.1 in /usr/local/lib/python3.11/dist-packages (from scikit-learn==1.3.2) (1.4.2)\n",
            "Requirement already satisfied: threadpoolctl>=2.0.0 in /usr/local/lib/python3.11/dist-packages (from scikit-learn==1.3.2) (3.5.0)\n",
            "Using cached scikit_learn-1.3.2-cp311-cp311-manylinux_2_17_x86_64.manylinux2014_x86_64.whl (10.9 MB)\n",
            "Installing collected packages: scikit-learn\n",
            "Successfully installed scikit-learn-1.3.2\n"
          ]
        }
      ]
    },
    {
      "cell_type": "code",
      "execution_count": null,
      "id": "42ea711e",
      "metadata": {
        "_cell_guid": "b1076dfc-b9ad-4769-8c92-a6c4dae69d19",
        "_uuid": "8f2839f25d086af736a60e9eeb907d3b93b6e0e5",
        "execution": {
          "iopub.execute_input": "2024-10-11T01:33:43.566721Z",
          "iopub.status.busy": "2024-10-11T01:33:43.566001Z",
          "iopub.status.idle": "2024-10-11T01:33:49.185178Z",
          "shell.execute_reply": "2024-10-11T01:33:49.184415Z"
        },
        "papermill": {
          "duration": 5.630048,
          "end_time": "2024-10-11T01:33:49.187558",
          "exception": false,
          "start_time": "2024-10-11T01:33:43.557510",
          "status": "completed"
        },
        "tags": [],
        "id": "42ea711e",
        "colab": {
          "base_uri": "https://localhost:8080/"
        },
        "outputId": "4d58ecc5-665c-4ba9-b3d3-b27634fe97c6"
      },
      "outputs": [
        {
          "output_type": "stream",
          "name": "stderr",
          "text": [
            "/usr/local/lib/python3.11/dist-packages/dask/dataframe/__init__.py:42: FutureWarning: \n",
            "Dask dataframe query planning is disabled because dask-expr is not installed.\n",
            "\n",
            "You can install it with `pip install dask[dataframe]` or `conda install dask`.\n",
            "This will raise in a future version.\n",
            "\n",
            "  warnings.warn(msg, FutureWarning)\n"
          ]
        }
      ],
      "source": [
        "import numpy as np\n",
        "import pandas as pd\n",
        "\n",
        "import re\n",
        "import optuna\n",
        "from sklearn.model_selection import train_test_split, cross_val_score, KFold\n",
        "import catboost as cb\n",
        "\n",
        "from xgboost import XGBRegressor, callback\n",
        "import lightgbm as lgb\n",
        "from lightgbm import log_evaluation, early_stopping\n",
        "from catboost import CatBoostRegressor, Pool\n",
        "from sklearn.metrics import mean_squared_error, r2_score\n",
        "from scipy.optimize import minimize\n",
        "\n",
        "\n",
        "import warnings\n",
        "warnings.filterwarnings(\"ignore\")"
      ]
    },
    {
      "cell_type": "markdown",
      "id": "180b1be2",
      "metadata": {
        "papermill": {
          "duration": 0.00656,
          "end_time": "2024-10-11T01:33:49.201352",
          "exception": false,
          "start_time": "2024-10-11T01:33:49.194792",
          "status": "completed"
        },
        "tags": [],
        "id": "180b1be2"
      },
      "source": [
        "## Import data"
      ]
    },
    {
      "cell_type": "code",
      "execution_count": null,
      "id": "1ac53656",
      "metadata": {
        "execution": {
          "iopub.execute_input": "2024-10-11T01:33:49.216375Z",
          "iopub.status.busy": "2024-10-11T01:33:49.215763Z",
          "iopub.status.idle": "2024-10-11T01:33:49.257052Z",
          "shell.execute_reply": "2024-10-11T01:33:49.256224Z"
        },
        "papermill": {
          "duration": 0.050961,
          "end_time": "2024-10-11T01:33:49.259039",
          "exception": false,
          "start_time": "2024-10-11T01:33:49.208078",
          "status": "completed"
        },
        "tags": [],
        "id": "1ac53656",
        "outputId": "a8b8fb69-faf7-42aa-fc10-42120f369df8",
        "colab": {
          "base_uri": "https://localhost:8080/",
          "height": 256
        }
      },
      "outputs": [
        {
          "output_type": "execute_result",
          "data": {
            "text/plain": [
              "   MSSubClass MSZoning  LotFrontage  LotArea Street Alley LotShape  \\\n",
              "0          60       RL         65.0     8450   Pave   NaN      Reg   \n",
              "1          20       RL         80.0     9600   Pave   NaN      Reg   \n",
              "2          60       RL         68.0    11250   Pave   NaN      IR1   \n",
              "3          70       RL         60.0     9550   Pave   NaN      IR1   \n",
              "4          60       RL         84.0    14260   Pave   NaN      IR1   \n",
              "\n",
              "  LandContour Utilities LotConfig  ... PoolArea PoolQC Fence MiscFeature  \\\n",
              "0         Lvl    AllPub    Inside  ...        0    NaN   NaN         NaN   \n",
              "1         Lvl    AllPub       FR2  ...        0    NaN   NaN         NaN   \n",
              "2         Lvl    AllPub    Inside  ...        0    NaN   NaN         NaN   \n",
              "3         Lvl    AllPub    Corner  ...        0    NaN   NaN         NaN   \n",
              "4         Lvl    AllPub       FR2  ...        0    NaN   NaN         NaN   \n",
              "\n",
              "  MiscVal MoSold  YrSold  SaleType  SaleCondition  SalePrice  \n",
              "0       0      2    2008        WD         Normal     208500  \n",
              "1       0      5    2007        WD         Normal     181500  \n",
              "2       0      9    2008        WD         Normal     223500  \n",
              "3       0      2    2006        WD        Abnorml     140000  \n",
              "4       0     12    2008        WD         Normal     250000  \n",
              "\n",
              "[5 rows x 80 columns]"
            ],
            "text/html": [
              "\n",
              "  <div id=\"df-8b8e6c1c-3116-439a-9c56-72fc5ba6ede7\" class=\"colab-df-container\">\n",
              "    <div>\n",
              "<style scoped>\n",
              "    .dataframe tbody tr th:only-of-type {\n",
              "        vertical-align: middle;\n",
              "    }\n",
              "\n",
              "    .dataframe tbody tr th {\n",
              "        vertical-align: top;\n",
              "    }\n",
              "\n",
              "    .dataframe thead th {\n",
              "        text-align: right;\n",
              "    }\n",
              "</style>\n",
              "<table border=\"1\" class=\"dataframe\">\n",
              "  <thead>\n",
              "    <tr style=\"text-align: right;\">\n",
              "      <th></th>\n",
              "      <th>MSSubClass</th>\n",
              "      <th>MSZoning</th>\n",
              "      <th>LotFrontage</th>\n",
              "      <th>LotArea</th>\n",
              "      <th>Street</th>\n",
              "      <th>Alley</th>\n",
              "      <th>LotShape</th>\n",
              "      <th>LandContour</th>\n",
              "      <th>Utilities</th>\n",
              "      <th>LotConfig</th>\n",
              "      <th>...</th>\n",
              "      <th>PoolArea</th>\n",
              "      <th>PoolQC</th>\n",
              "      <th>Fence</th>\n",
              "      <th>MiscFeature</th>\n",
              "      <th>MiscVal</th>\n",
              "      <th>MoSold</th>\n",
              "      <th>YrSold</th>\n",
              "      <th>SaleType</th>\n",
              "      <th>SaleCondition</th>\n",
              "      <th>SalePrice</th>\n",
              "    </tr>\n",
              "  </thead>\n",
              "  <tbody>\n",
              "    <tr>\n",
              "      <th>0</th>\n",
              "      <td>60</td>\n",
              "      <td>RL</td>\n",
              "      <td>65.0</td>\n",
              "      <td>8450</td>\n",
              "      <td>Pave</td>\n",
              "      <td>NaN</td>\n",
              "      <td>Reg</td>\n",
              "      <td>Lvl</td>\n",
              "      <td>AllPub</td>\n",
              "      <td>Inside</td>\n",
              "      <td>...</td>\n",
              "      <td>0</td>\n",
              "      <td>NaN</td>\n",
              "      <td>NaN</td>\n",
              "      <td>NaN</td>\n",
              "      <td>0</td>\n",
              "      <td>2</td>\n",
              "      <td>2008</td>\n",
              "      <td>WD</td>\n",
              "      <td>Normal</td>\n",
              "      <td>208500</td>\n",
              "    </tr>\n",
              "    <tr>\n",
              "      <th>1</th>\n",
              "      <td>20</td>\n",
              "      <td>RL</td>\n",
              "      <td>80.0</td>\n",
              "      <td>9600</td>\n",
              "      <td>Pave</td>\n",
              "      <td>NaN</td>\n",
              "      <td>Reg</td>\n",
              "      <td>Lvl</td>\n",
              "      <td>AllPub</td>\n",
              "      <td>FR2</td>\n",
              "      <td>...</td>\n",
              "      <td>0</td>\n",
              "      <td>NaN</td>\n",
              "      <td>NaN</td>\n",
              "      <td>NaN</td>\n",
              "      <td>0</td>\n",
              "      <td>5</td>\n",
              "      <td>2007</td>\n",
              "      <td>WD</td>\n",
              "      <td>Normal</td>\n",
              "      <td>181500</td>\n",
              "    </tr>\n",
              "    <tr>\n",
              "      <th>2</th>\n",
              "      <td>60</td>\n",
              "      <td>RL</td>\n",
              "      <td>68.0</td>\n",
              "      <td>11250</td>\n",
              "      <td>Pave</td>\n",
              "      <td>NaN</td>\n",
              "      <td>IR1</td>\n",
              "      <td>Lvl</td>\n",
              "      <td>AllPub</td>\n",
              "      <td>Inside</td>\n",
              "      <td>...</td>\n",
              "      <td>0</td>\n",
              "      <td>NaN</td>\n",
              "      <td>NaN</td>\n",
              "      <td>NaN</td>\n",
              "      <td>0</td>\n",
              "      <td>9</td>\n",
              "      <td>2008</td>\n",
              "      <td>WD</td>\n",
              "      <td>Normal</td>\n",
              "      <td>223500</td>\n",
              "    </tr>\n",
              "    <tr>\n",
              "      <th>3</th>\n",
              "      <td>70</td>\n",
              "      <td>RL</td>\n",
              "      <td>60.0</td>\n",
              "      <td>9550</td>\n",
              "      <td>Pave</td>\n",
              "      <td>NaN</td>\n",
              "      <td>IR1</td>\n",
              "      <td>Lvl</td>\n",
              "      <td>AllPub</td>\n",
              "      <td>Corner</td>\n",
              "      <td>...</td>\n",
              "      <td>0</td>\n",
              "      <td>NaN</td>\n",
              "      <td>NaN</td>\n",
              "      <td>NaN</td>\n",
              "      <td>0</td>\n",
              "      <td>2</td>\n",
              "      <td>2006</td>\n",
              "      <td>WD</td>\n",
              "      <td>Abnorml</td>\n",
              "      <td>140000</td>\n",
              "    </tr>\n",
              "    <tr>\n",
              "      <th>4</th>\n",
              "      <td>60</td>\n",
              "      <td>RL</td>\n",
              "      <td>84.0</td>\n",
              "      <td>14260</td>\n",
              "      <td>Pave</td>\n",
              "      <td>NaN</td>\n",
              "      <td>IR1</td>\n",
              "      <td>Lvl</td>\n",
              "      <td>AllPub</td>\n",
              "      <td>FR2</td>\n",
              "      <td>...</td>\n",
              "      <td>0</td>\n",
              "      <td>NaN</td>\n",
              "      <td>NaN</td>\n",
              "      <td>NaN</td>\n",
              "      <td>0</td>\n",
              "      <td>12</td>\n",
              "      <td>2008</td>\n",
              "      <td>WD</td>\n",
              "      <td>Normal</td>\n",
              "      <td>250000</td>\n",
              "    </tr>\n",
              "  </tbody>\n",
              "</table>\n",
              "<p>5 rows × 80 columns</p>\n",
              "</div>\n",
              "    <div class=\"colab-df-buttons\">\n",
              "\n",
              "  <div class=\"colab-df-container\">\n",
              "    <button class=\"colab-df-convert\" onclick=\"convertToInteractive('df-8b8e6c1c-3116-439a-9c56-72fc5ba6ede7')\"\n",
              "            title=\"Convert this dataframe to an interactive table.\"\n",
              "            style=\"display:none;\">\n",
              "\n",
              "  <svg xmlns=\"http://www.w3.org/2000/svg\" height=\"24px\" viewBox=\"0 -960 960 960\">\n",
              "    <path d=\"M120-120v-720h720v720H120Zm60-500h600v-160H180v160Zm220 220h160v-160H400v160Zm0 220h160v-160H400v160ZM180-400h160v-160H180v160Zm440 0h160v-160H620v160ZM180-180h160v-160H180v160Zm440 0h160v-160H620v160Z\"/>\n",
              "  </svg>\n",
              "    </button>\n",
              "\n",
              "  <style>\n",
              "    .colab-df-container {\n",
              "      display:flex;\n",
              "      gap: 12px;\n",
              "    }\n",
              "\n",
              "    .colab-df-convert {\n",
              "      background-color: #E8F0FE;\n",
              "      border: none;\n",
              "      border-radius: 50%;\n",
              "      cursor: pointer;\n",
              "      display: none;\n",
              "      fill: #1967D2;\n",
              "      height: 32px;\n",
              "      padding: 0 0 0 0;\n",
              "      width: 32px;\n",
              "    }\n",
              "\n",
              "    .colab-df-convert:hover {\n",
              "      background-color: #E2EBFA;\n",
              "      box-shadow: 0px 1px 2px rgba(60, 64, 67, 0.3), 0px 1px 3px 1px rgba(60, 64, 67, 0.15);\n",
              "      fill: #174EA6;\n",
              "    }\n",
              "\n",
              "    .colab-df-buttons div {\n",
              "      margin-bottom: 4px;\n",
              "    }\n",
              "\n",
              "    [theme=dark] .colab-df-convert {\n",
              "      background-color: #3B4455;\n",
              "      fill: #D2E3FC;\n",
              "    }\n",
              "\n",
              "    [theme=dark] .colab-df-convert:hover {\n",
              "      background-color: #434B5C;\n",
              "      box-shadow: 0px 1px 3px 1px rgba(0, 0, 0, 0.15);\n",
              "      filter: drop-shadow(0px 1px 2px rgba(0, 0, 0, 0.3));\n",
              "      fill: #FFFFFF;\n",
              "    }\n",
              "  </style>\n",
              "\n",
              "    <script>\n",
              "      const buttonEl =\n",
              "        document.querySelector('#df-8b8e6c1c-3116-439a-9c56-72fc5ba6ede7 button.colab-df-convert');\n",
              "      buttonEl.style.display =\n",
              "        google.colab.kernel.accessAllowed ? 'block' : 'none';\n",
              "\n",
              "      async function convertToInteractive(key) {\n",
              "        const element = document.querySelector('#df-8b8e6c1c-3116-439a-9c56-72fc5ba6ede7');\n",
              "        const dataTable =\n",
              "          await google.colab.kernel.invokeFunction('convertToInteractive',\n",
              "                                                    [key], {});\n",
              "        if (!dataTable) return;\n",
              "\n",
              "        const docLinkHtml = 'Like what you see? Visit the ' +\n",
              "          '<a target=\"_blank\" href=https://colab.research.google.com/notebooks/data_table.ipynb>data table notebook</a>'\n",
              "          + ' to learn more about interactive tables.';\n",
              "        element.innerHTML = '';\n",
              "        dataTable['output_type'] = 'display_data';\n",
              "        await google.colab.output.renderOutput(dataTable, element);\n",
              "        const docLink = document.createElement('div');\n",
              "        docLink.innerHTML = docLinkHtml;\n",
              "        element.appendChild(docLink);\n",
              "      }\n",
              "    </script>\n",
              "  </div>\n",
              "\n",
              "\n",
              "<div id=\"df-fd1bde26-e63a-4b97-ae1e-449739406af4\">\n",
              "  <button class=\"colab-df-quickchart\" onclick=\"quickchart('df-fd1bde26-e63a-4b97-ae1e-449739406af4')\"\n",
              "            title=\"Suggest charts\"\n",
              "            style=\"display:none;\">\n",
              "\n",
              "<svg xmlns=\"http://www.w3.org/2000/svg\" height=\"24px\"viewBox=\"0 0 24 24\"\n",
              "     width=\"24px\">\n",
              "    <g>\n",
              "        <path d=\"M19 3H5c-1.1 0-2 .9-2 2v14c0 1.1.9 2 2 2h14c1.1 0 2-.9 2-2V5c0-1.1-.9-2-2-2zM9 17H7v-7h2v7zm4 0h-2V7h2v10zm4 0h-2v-4h2v4z\"/>\n",
              "    </g>\n",
              "</svg>\n",
              "  </button>\n",
              "\n",
              "<style>\n",
              "  .colab-df-quickchart {\n",
              "      --bg-color: #E8F0FE;\n",
              "      --fill-color: #1967D2;\n",
              "      --hover-bg-color: #E2EBFA;\n",
              "      --hover-fill-color: #174EA6;\n",
              "      --disabled-fill-color: #AAA;\n",
              "      --disabled-bg-color: #DDD;\n",
              "  }\n",
              "\n",
              "  [theme=dark] .colab-df-quickchart {\n",
              "      --bg-color: #3B4455;\n",
              "      --fill-color: #D2E3FC;\n",
              "      --hover-bg-color: #434B5C;\n",
              "      --hover-fill-color: #FFFFFF;\n",
              "      --disabled-bg-color: #3B4455;\n",
              "      --disabled-fill-color: #666;\n",
              "  }\n",
              "\n",
              "  .colab-df-quickchart {\n",
              "    background-color: var(--bg-color);\n",
              "    border: none;\n",
              "    border-radius: 50%;\n",
              "    cursor: pointer;\n",
              "    display: none;\n",
              "    fill: var(--fill-color);\n",
              "    height: 32px;\n",
              "    padding: 0;\n",
              "    width: 32px;\n",
              "  }\n",
              "\n",
              "  .colab-df-quickchart:hover {\n",
              "    background-color: var(--hover-bg-color);\n",
              "    box-shadow: 0 1px 2px rgba(60, 64, 67, 0.3), 0 1px 3px 1px rgba(60, 64, 67, 0.15);\n",
              "    fill: var(--button-hover-fill-color);\n",
              "  }\n",
              "\n",
              "  .colab-df-quickchart-complete:disabled,\n",
              "  .colab-df-quickchart-complete:disabled:hover {\n",
              "    background-color: var(--disabled-bg-color);\n",
              "    fill: var(--disabled-fill-color);\n",
              "    box-shadow: none;\n",
              "  }\n",
              "\n",
              "  .colab-df-spinner {\n",
              "    border: 2px solid var(--fill-color);\n",
              "    border-color: transparent;\n",
              "    border-bottom-color: var(--fill-color);\n",
              "    animation:\n",
              "      spin 1s steps(1) infinite;\n",
              "  }\n",
              "\n",
              "  @keyframes spin {\n",
              "    0% {\n",
              "      border-color: transparent;\n",
              "      border-bottom-color: var(--fill-color);\n",
              "      border-left-color: var(--fill-color);\n",
              "    }\n",
              "    20% {\n",
              "      border-color: transparent;\n",
              "      border-left-color: var(--fill-color);\n",
              "      border-top-color: var(--fill-color);\n",
              "    }\n",
              "    30% {\n",
              "      border-color: transparent;\n",
              "      border-left-color: var(--fill-color);\n",
              "      border-top-color: var(--fill-color);\n",
              "      border-right-color: var(--fill-color);\n",
              "    }\n",
              "    40% {\n",
              "      border-color: transparent;\n",
              "      border-right-color: var(--fill-color);\n",
              "      border-top-color: var(--fill-color);\n",
              "    }\n",
              "    60% {\n",
              "      border-color: transparent;\n",
              "      border-right-color: var(--fill-color);\n",
              "    }\n",
              "    80% {\n",
              "      border-color: transparent;\n",
              "      border-right-color: var(--fill-color);\n",
              "      border-bottom-color: var(--fill-color);\n",
              "    }\n",
              "    90% {\n",
              "      border-color: transparent;\n",
              "      border-bottom-color: var(--fill-color);\n",
              "    }\n",
              "  }\n",
              "</style>\n",
              "\n",
              "  <script>\n",
              "    async function quickchart(key) {\n",
              "      const quickchartButtonEl =\n",
              "        document.querySelector('#' + key + ' button');\n",
              "      quickchartButtonEl.disabled = true;  // To prevent multiple clicks.\n",
              "      quickchartButtonEl.classList.add('colab-df-spinner');\n",
              "      try {\n",
              "        const charts = await google.colab.kernel.invokeFunction(\n",
              "            'suggestCharts', [key], {});\n",
              "      } catch (error) {\n",
              "        console.error('Error during call to suggestCharts:', error);\n",
              "      }\n",
              "      quickchartButtonEl.classList.remove('colab-df-spinner');\n",
              "      quickchartButtonEl.classList.add('colab-df-quickchart-complete');\n",
              "    }\n",
              "    (() => {\n",
              "      let quickchartButtonEl =\n",
              "        document.querySelector('#df-fd1bde26-e63a-4b97-ae1e-449739406af4 button');\n",
              "      quickchartButtonEl.style.display =\n",
              "        google.colab.kernel.accessAllowed ? 'block' : 'none';\n",
              "    })();\n",
              "  </script>\n",
              "</div>\n",
              "\n",
              "    </div>\n",
              "  </div>\n"
            ],
            "application/vnd.google.colaboratory.intrinsic+json": {
              "type": "dataframe",
              "variable_name": "df"
            }
          },
          "metadata": {},
          "execution_count": 3
        }
      ],
      "source": [
        "file_path = 'https://raw.githubusercontent.com/Taweilo/house-price-prediction/main/Data/train.csv'\n",
        "df = pd.read_csv(file_path)\n",
        "df = df.drop(columns=[\"Id\"], axis = 1)\n",
        "df.head()"
      ]
    },
    {
      "cell_type": "markdown",
      "id": "2e9a6873",
      "metadata": {
        "papermill": {
          "duration": 0.013179,
          "end_time": "2024-10-11T01:33:58.828424",
          "exception": false,
          "start_time": "2024-10-11T01:33:58.815245",
          "status": "completed"
        },
        "tags": [],
        "id": "2e9a6873"
      },
      "source": [
        "## Data preparation"
      ]
    },
    {
      "cell_type": "code",
      "execution_count": null,
      "id": "83a8662d",
      "metadata": {
        "execution": {
          "iopub.execute_input": "2024-10-11T01:33:58.854293Z",
          "iopub.status.busy": "2024-10-11T01:33:58.853985Z",
          "iopub.status.idle": "2024-10-11T01:33:58.858888Z",
          "shell.execute_reply": "2024-10-11T01:33:58.858108Z"
        },
        "papermill": {
          "duration": 0.020001,
          "end_time": "2024-10-11T01:33:58.860675",
          "exception": false,
          "start_time": "2024-10-11T01:33:58.840674",
          "status": "completed"
        },
        "tags": [],
        "id": "83a8662d"
      },
      "outputs": [],
      "source": [
        "cat_cols = df.select_dtypes(include=['object', 'category']).columns.tolist()"
      ]
    },
    {
      "cell_type": "code",
      "execution_count": null,
      "id": "0e1d745c",
      "metadata": {
        "execution": {
          "iopub.execute_input": "2024-10-11T01:33:58.887950Z",
          "iopub.status.busy": "2024-10-11T01:33:58.887678Z",
          "iopub.status.idle": "2024-10-11T01:33:58.900119Z",
          "shell.execute_reply": "2024-10-11T01:33:58.899284Z"
        },
        "papermill": {
          "duration": 0.027728,
          "end_time": "2024-10-11T01:33:58.902011",
          "exception": false,
          "start_time": "2024-10-11T01:33:58.874283",
          "status": "completed"
        },
        "tags": [],
        "id": "0e1d745c"
      },
      "outputs": [],
      "source": [
        "cat_features = df.select_dtypes('object').columns\n",
        "# Reference: https://www.kaggle.com/code/ambrosm/pss4e8-eda-which-makes-sense\n",
        "\n",
        "for feature in cat_features:\n",
        "    categories = sorted(list(set(df[feature].dropna())))\n",
        "    dtype = pd.CategoricalDtype(categories=categories, ordered=False)\n",
        "\n",
        "    df.loc[~df[feature].isin(categories), feature] = np.nan\n",
        "\n",
        "    df[feature] = df[feature].astype(dtype)"
      ]
    },
    {
      "cell_type": "code",
      "execution_count": null,
      "id": "cea97be3",
      "metadata": {
        "execution": {
          "iopub.execute_input": "2024-10-11T01:33:58.927823Z",
          "iopub.status.busy": "2024-10-11T01:33:58.927579Z",
          "iopub.status.idle": "2024-10-11T01:33:58.932312Z",
          "shell.execute_reply": "2024-10-11T01:33:58.931609Z"
        },
        "papermill": {
          "duration": 0.019887,
          "end_time": "2024-10-11T01:33:58.934163",
          "exception": false,
          "start_time": "2024-10-11T01:33:58.914276",
          "status": "completed"
        },
        "tags": [],
        "id": "cea97be3"
      },
      "outputs": [],
      "source": [
        "# Define X\n",
        "X = df.drop(columns=['SalePrice'], axis = 1)\n",
        "y = df[\"SalePrice\"]"
      ]
    },
    {
      "cell_type": "code",
      "execution_count": null,
      "id": "acf58d36",
      "metadata": {
        "execution": {
          "iopub.execute_input": "2024-10-11T01:33:58.959925Z",
          "iopub.status.busy": "2024-10-11T01:33:58.959660Z",
          "iopub.status.idle": "2024-10-11T01:33:58.971512Z",
          "shell.execute_reply": "2024-10-11T01:33:58.970645Z"
        },
        "papermill": {
          "duration": 0.026889,
          "end_time": "2024-10-11T01:33:58.973524",
          "exception": false,
          "start_time": "2024-10-11T01:33:58.946635",
          "status": "completed"
        },
        "tags": [],
        "id": "acf58d36",
        "outputId": "336ea47d-1202-4849-e49b-58446e0c04fd",
        "colab": {
          "base_uri": "https://localhost:8080/"
        }
      },
      "outputs": [
        {
          "output_type": "stream",
          "name": "stdout",
          "text": [
            "Train: (1168, 79) (1168,)\n",
            "Validation: (146, 79) (146,)\n",
            "Test: (146, 79) (146,)\n"
          ]
        }
      ],
      "source": [
        "# Split 80% train, 20% temp (val + test)\n",
        "X_train, X_temp, y_train, y_temp = train_test_split(X, y, test_size=0.2, random_state=42)\n",
        "\n",
        "# Split temp into 10% val, 10% test\n",
        "X_val, X_test, y_val, y_test = train_test_split(X_temp, y_temp, test_size=0.5, random_state=42)\n",
        "\n",
        "# Print shapes to verify\n",
        "print(\"Train:\", X_train.shape, y_train.shape)\n",
        "print(\"Validation:\", X_val.shape, y_val.shape)\n",
        "print(\"Test:\", X_test.shape, y_test.shape)"
      ]
    },
    {
      "cell_type": "markdown",
      "id": "2428e4bd",
      "metadata": {
        "papermill": {
          "duration": 0.012201,
          "end_time": "2024-10-11T01:33:58.998157",
          "exception": false,
          "start_time": "2024-10-11T01:33:58.985956",
          "status": "completed"
        },
        "tags": [],
        "id": "2428e4bd"
      },
      "source": [
        "## Modeling"
      ]
    },
    {
      "cell_type": "markdown",
      "id": "5f466af7",
      "metadata": {
        "papermill": {
          "duration": 0.012183,
          "end_time": "2024-10-11T01:33:59.023196",
          "exception": false,
          "start_time": "2024-10-11T01:33:59.011013",
          "status": "completed"
        },
        "tags": [],
        "id": "5f466af7"
      },
      "source": [
        "- XGB"
      ]
    },
    {
      "cell_type": "code",
      "source": [
        "import xgboost\n",
        "print(xgboost.__version__)"
      ],
      "metadata": {
        "colab": {
          "base_uri": "https://localhost:8080/"
        },
        "id": "CsGWfL5Xvrcb",
        "outputId": "e092935b-841c-44df-b4ee-d64c9179c0aa"
      },
      "id": "CsGWfL5Xvrcb",
      "execution_count": null,
      "outputs": [
        {
          "output_type": "stream",
          "name": "stdout",
          "text": [
            "2.1.3\n"
          ]
        }
      ]
    },
    {
      "cell_type": "code",
      "source": [
        "# Set logging to ERROR to suppress INFO messages from Optuna\n",
        "optuna.logging.set_verbosity(optuna.logging.ERROR)\n",
        "\n",
        "# Define the Optuna objective function\n",
        "def objective(trial):\n",
        "    params = {\n",
        "        \"lambda\": trial.suggest_loguniform(\"reg_lambda\", 1e-6, 10),  # Match LGBM's reg_lambda\n",
        "        \"alpha\": trial.suggest_loguniform(\"reg_alpha\", 1e-6, 10),  # Match LGBM's reg_alpha\n",
        "        \"colsample_bytree\": trial.suggest_float(\"colsample_bytree\", 0.5, 1.0),\n",
        "        \"subsample\": trial.suggest_float(\"subsample\", 0.5, 1.0),\n",
        "        \"learning_rate\": trial.suggest_loguniform('learning_rate', 1e-2, 1.0),  # Match LGBM\n",
        "        \"max_depth\": trial.suggest_int('max_depth', 2, 50),  # Match LGBM\n",
        "        \"min_child_weight\": trial.suggest_loguniform(\"min_child_weight\", 1e-4, 100),  # Match LGBM\n",
        "        \"n_estimators\": trial.suggest_int(\"n_estimators\", 50, 1000),  # Match LGBM\n",
        "        \"tree_method\": \"hist\",  # Using GPU for speedup\n",
        "        \"device\": \"cuda\",  # Use GPU\n",
        "        \"random_state\": 42\n",
        "    }\n",
        "\n",
        "    # Initialize XGBoost Regressor\n",
        "    model = XGBRegressor(**params, enable_categorical=True)\n",
        "\n",
        "    # Cross-validation using KFold\n",
        "    kf = KFold(n_splits=5, shuffle=True, random_state=42)\n",
        "    scores = cross_val_score(model, X_train, y_train, cv=kf, scoring='neg_mean_squared_error')\n",
        "\n",
        "    # Return the mean of the CV scores (negative MSE)\n",
        "    return scores.mean()\n",
        "\n",
        "# Create a study and optimize\n",
        "study = optuna.create_study(direction='maximize')  # 'maximize' because we want to minimize the negative MSE\n",
        "study.optimize(objective, n_trials=100)\n",
        "\n",
        "# Get the best parameters\n",
        "best_params = study.best_params\n",
        "print(\"Best parameters found by Optuna: \", best_params)"
      ],
      "metadata": {
        "colab": {
          "base_uri": "https://localhost:8080/"
        },
        "id": "8xcDc0mdv6hS",
        "outputId": "0c52d2c9-4c19-48a6-bad6-9f446d7989e1"
      },
      "id": "8xcDc0mdv6hS",
      "execution_count": null,
      "outputs": [
        {
          "output_type": "stream",
          "name": "stdout",
          "text": [
            "Best parameters found by Optuna:  {'reg_lambda': 0.12688228439958346, 'reg_alpha': 0.000889636209268654, 'colsample_bytree': 0.613956213715118, 'subsample': 0.7536161508442696, 'learning_rate': 0.0531454528384571, 'max_depth': 3, 'min_child_weight': 0.1476017401560544, 'n_estimators': 912}\n"
          ]
        }
      ]
    },
    {
      "cell_type": "code",
      "source": [
        "# Define the XGBRegressor model with the best parameters\n",
        "xgb_model = XGBRegressor(\n",
        "    **best_params,\n",
        "    enable_categorical=True,\n",
        "    random_state=42,\n",
        "    eval_metric=\"rmse\",  # Pass eval_metric here\n",
        "    early_stopping_rounds=10  # Pass early stopping here\n",
        ")\n",
        "\n",
        "# Train the model with early stopping using the validation set\n",
        "eval_set = [(X_val, y_val)]\n",
        "xgb_model.fit(X_train, y_train, eval_set=eval_set, verbose=0)\n",
        "\n",
        "# Evaluate on the validation set\n",
        "xgb_val_pred = xgb_model.predict(X_val)\n",
        "xgb_mse = mean_squared_error(y_val, xgb_val_pred)\n",
        "xgb_r2 = r2_score(y_val, xgb_val_pred)\n",
        "\n",
        "print(f\"MSE on validation set: {xgb_mse}\")\n",
        "print(f\"R² on validation set: {xgb_r2}\")"
      ],
      "metadata": {
        "colab": {
          "base_uri": "https://localhost:8080/"
        },
        "id": "AygGIb4R2qS6",
        "outputId": "a68438e8-18e1-4afc-b2aa-0e1c5ecdf35b"
      },
      "id": "AygGIb4R2qS6",
      "execution_count": null,
      "outputs": [
        {
          "output_type": "stream",
          "name": "stdout",
          "text": [
            "MSE on validation set: 440113553.4553324\n",
            "R² on validation set: 0.9248783987198703\n"
          ]
        }
      ]
    },
    {
      "cell_type": "markdown",
      "id": "99da93e0",
      "metadata": {
        "papermill": {
          "duration": 0.013058,
          "end_time": "2024-10-11T04:07:32.701932",
          "exception": false,
          "start_time": "2024-10-11T04:07:32.688874",
          "status": "completed"
        },
        "tags": [],
        "id": "99da93e0"
      },
      "source": [
        "- LightGB"
      ]
    },
    {
      "cell_type": "code",
      "execution_count": null,
      "id": "978bf24d",
      "metadata": {
        "_kg_hide-input": true,
        "execution": {
          "iopub.execute_input": "2024-10-11T04:07:32.729696Z",
          "iopub.status.busy": "2024-10-11T04:07:32.729370Z",
          "iopub.status.idle": "2024-10-11T04:16:49.294746Z",
          "shell.execute_reply": "2024-10-11T04:16:49.293763Z"
        },
        "papermill": {
          "duration": 556.596747,
          "end_time": "2024-10-11T04:16:49.311503",
          "exception": false,
          "start_time": "2024-10-11T04:07:32.714756",
          "status": "completed"
        },
        "tags": [],
        "id": "978bf24d",
        "outputId": "a5d5c8ba-056d-4dae-a48c-d740715a2e85",
        "colab": {
          "base_uri": "https://localhost:8080/"
        }
      },
      "outputs": [
        {
          "output_type": "stream",
          "name": "stdout",
          "text": [
            "Best parameters found by Optuna:  {'reg_lambda': 2.0246287271463874, 'reg_alpha': 0.008333484840564514, 'colsample_bytree': 0.5299443544711497, 'subsample': 0.5421615536336953, 'learning_rate': 0.09941176488664437, 'max_depth': 39, 'min_child_weight': 15.96738750769411, 'n_estimators': 855, 'num_leaves': 229, 'min_data_in_leaf': 44, 'feature_fraction': 0.5652203298763192, 'bagging_fraction': 0.826706041753661, 'bagging_freq': 2, 'cat_smooth': 4.350099519287858}\n"
          ]
        }
      ],
      "source": [
        "# Set logging to ERROR to suppress INFO messages from Optuna\n",
        "optuna.logging.set_verbosity(optuna.logging.ERROR)\n",
        "\n",
        "# Define the Optuna objective function\n",
        "def objective(trial):\n",
        "    params = {\n",
        "        \"reg_lambda\": trial.suggest_loguniform(\"reg_lambda\", 1e-6, 10),  # Match XGBoost's lambda\n",
        "        \"reg_alpha\": trial.suggest_loguniform(\"reg_alpha\", 1e-6, 10),  # Match XGBoost's alpha\n",
        "        \"colsample_bytree\": trial.suggest_float(\"colsample_bytree\", 0.5, 1.0),\n",
        "        \"subsample\": trial.suggest_float(\"subsample\", 0.5, 1.0),\n",
        "        \"learning_rate\": trial.suggest_loguniform(\"learning_rate\", 1e-2, 1.0),  # Match XGBoost\n",
        "        \"max_depth\": trial.suggest_int(\"max_depth\", 2, 50),  # Match XGBoost\n",
        "        \"min_child_weight\": trial.suggest_loguniform(\"min_child_weight\", 1e-4, 100),  # Match XGBoost\n",
        "        \"n_estimators\": trial.suggest_int(\"n_estimators\", 50, 1000),  # Match XGBoost\n",
        "        \"num_leaves\": trial.suggest_int(\"num_leaves\", 2, 500),  # Unique to LGBM\n",
        "        \"min_data_in_leaf\": trial.suggest_int(\"min_data_in_leaf\", 1, 100),  # Unique to LGBM\n",
        "        \"feature_fraction\": trial.suggest_float(\"feature_fraction\", 0.5, 1.0),  # Similar to XGB’s colsample_bytree\n",
        "        \"bagging_fraction\": trial.suggest_float(\"bagging_fraction\", 0.5, 1.0),  # Similar to XGB’s subsample\n",
        "        \"bagging_freq\": trial.suggest_int(\"bagging_freq\", 1, 5),  # Unique to LGBM\n",
        "        \"cat_smooth\": trial.suggest_float(\"cat_smooth\", 1, 100, log=True),  # Unique to LGBM\n",
        "        \"random_state\": 42,\n",
        "        \"verbose\": -1\n",
        "    }\n",
        "\n",
        "    # Create the LightGBM Regressor model\n",
        "    model = lgb.LGBMRegressor(**params)\n",
        "\n",
        "    # Cross-validation using KFold\n",
        "    kf = KFold(n_splits=5, shuffle=True, random_state=42)\n",
        "    scores = cross_val_score(model, X_train, y_train, cv=kf, scoring='neg_mean_squared_error')\n",
        "    # Return the mean of the CV scores (negative MSE)\n",
        "    return scores.mean()\n",
        "\n",
        "\n",
        "# Create a study and optimize\n",
        "study = optuna.create_study(direction='maximize')  # Minimize the RMSE\n",
        "study.optimize(objective, n_trials=100)\n",
        "\n",
        "# Get the best parameters\n",
        "best_params = study.best_params\n",
        "print(\"Best parameters found by Optuna: \", best_params)"
      ]
    },
    {
      "cell_type": "code",
      "execution_count": null,
      "id": "ca4f6461",
      "metadata": {
        "execution": {
          "iopub.execute_input": "2024-10-11T04:16:49.339761Z",
          "iopub.status.busy": "2024-10-11T04:16:49.339416Z",
          "iopub.status.idle": "2024-10-11T04:16:49.557163Z",
          "shell.execute_reply": "2024-10-11T04:16:49.556177Z"
        },
        "papermill": {
          "duration": 0.234275,
          "end_time": "2024-10-11T04:16:49.559220",
          "exception": false,
          "start_time": "2024-10-11T04:16:49.324945",
          "status": "completed"
        },
        "tags": [],
        "id": "ca4f6461",
        "outputId": "7b1b07c9-56c7-4810-95bb-39820a4e35bd",
        "colab": {
          "base_uri": "https://localhost:8080/"
        }
      },
      "outputs": [
        {
          "output_type": "stream",
          "name": "stdout",
          "text": [
            "Training until validation scores don't improve for 10 rounds\n",
            "Early stopping, best iteration is:\n",
            "[76]\tvalid_0's rmse: 19586.7\tvalid_0's l2: 3.8364e+08\n",
            "MSE on validation set: 383640298.198284\n",
            "r2 on validation set: 0.9345176414359925\n"
          ]
        }
      ],
      "source": [
        "# Define the LightGBM Regressor with the best parameters\n",
        "lgb_model = lgb.LGBMRegressor(**best_params, random_seed = 42)\n",
        "callbacks = [log_evaluation(period=150), early_stopping(stopping_rounds=10)]\n",
        "\n",
        "# Train the model with early stopping using the validation set\n",
        "eval_set = [(X_val, y_val)]  # Validation set for early stopping\n",
        "lgb_model.fit(\n",
        "    X_train, y_train,\n",
        "    eval_set=eval_set,\n",
        "    eval_metric='rmse',\n",
        "    callbacks=callbacks\n",
        ")\n",
        "\n",
        "# Evaluate on the validation set\n",
        "lgb_val_pred = lgb_model.predict(X_val)\n",
        "lgb_mse = mean_squared_error(y_val, lgb_val_pred)\n",
        "lgb_r2 = r2_score(y_val, lgb_val_pred)\n",
        "print(f\"MSE on validation set: {lgb_mse}\")\n",
        "print(f\"r2 on validation set: {lgb_r2}\")"
      ]
    },
    {
      "cell_type": "markdown",
      "source": [
        "- CatBoost"
      ],
      "metadata": {
        "id": "DHMnH07BvxuO"
      },
      "id": "DHMnH07BvxuO"
    },
    {
      "cell_type": "code",
      "source": [
        "# Identify categorical features\n",
        "cat_features = X.select_dtypes(include=[\"object\", \"category\"]).columns.tolist()\n",
        "cat_feature_indices = [X.columns.get_loc(col) for col in cat_features]  # Convert to indices"
      ],
      "metadata": {
        "id": "zbGbHfCvydtg"
      },
      "id": "zbGbHfCvydtg",
      "execution_count": null,
      "outputs": []
    },
    {
      "cell_type": "code",
      "source": [
        "X_cat_train = X_train.copy()\n",
        "X_cat_val = X_val.copy()\n",
        "X_cat_test = X_test.copy()\n",
        "\n",
        "#X_cat_train[cat_features] = X_cat_train[cat_features].astype(str).fillna('missing')\n",
        "#X_cat_val[cat_features] = X_cat_val[cat_features].astype(str).fillna('missing')\n",
        "#X_cat_test[cat_features] = X_cat_test[cat_features].astype(str).fillna('missing')\n",
        "\n",
        "\n",
        "X_cat_train[cat_features] = X_cat_train[cat_features].astype(str)\n",
        "X_cat_val[cat_features] = X_cat_val[cat_features].astype(str)\n",
        "X_cat_test[cat_features] = X_cat_test[cat_features].astype(str)"
      ],
      "metadata": {
        "id": "HvT3gQuuy_oA"
      },
      "id": "HvT3gQuuy_oA",
      "execution_count": null,
      "outputs": []
    },
    {
      "cell_type": "code",
      "source": [
        "# Set logging level to avoid clutter\n",
        "# optuna.logging.set_verbosity(optuna.logging.ERROR)\n",
        "\n",
        "# Define Optuna's objective function\n",
        "def objective(trial):\n",
        "    params = {\n",
        "        \"max_depth\": trial.suggest_int(\"max_depth\", 4, 12),\n",
        "        \"learning_rate\": trial.suggest_loguniform(\"learning_rate\", 1e-2, 0.5),\n",
        "        \"n_estimators\": trial.suggest_int(\"n_estimators\", 50, 1000),\n",
        "        \"l2_leaf_reg\": trial.suggest_loguniform(\"l2_leaf_reg\", 1e-3, 10.0),\n",
        "        \"bagging_temperature\": trial.suggest_float(\"bagging_temperature\", 0.0, 1.0),\n",
        "        \"random_strength\": trial.suggest_float(\"random_strength\", 1, 10),\n",
        "        \"border_count\": trial.suggest_int(\"border_count\", 32, 255),\n",
        "        \"cat_features\": cat_features,  # Use categorical features\n",
        "        \"verbose\": 0,\n",
        "        \"random_seed\": 42,\n",
        "        \"task_type\": \"GPU\",  # Use GPU instead of CPU\n",
        "        \"nan_mode\": \"Min\"  # CatBoost automatically handles NaN\n",
        "    }\n",
        "\n",
        "    # Initialize CatBoost Regressor\n",
        "    model = cb.CatBoostRegressor(**params)\n",
        "\n",
        "    # Cross-validation using KFold\n",
        "    kf = KFold(n_splits=5, shuffle=True, random_state=42)\n",
        "    scores = cross_val_score(model, X_cat_train, y_train, cv=kf, scoring='neg_mean_squared_error')\n",
        "\n",
        "    # Compute mean score\n",
        "    mean_score = scores.mean()\n",
        "\n",
        "    # Pruning logic: Report intermediate results\n",
        "    trial.report(mean_score, step=1)\n",
        "    if trial.should_prune():\n",
        "        raise optuna.exceptions.TrialPruned()\n",
        "\n",
        "    return mean_score  # Optuna minimizes MSE by maximizing negative MSE\n",
        "\n",
        "\n",
        "# Create an Optuna study with pruning\n",
        "study = optuna.create_study(direction='maximize', pruner=optuna.pruners.MedianPruner())\n",
        "study.optimize(objective, n_trials=100)\n",
        "\n",
        "# Get the best parameters\n",
        "best_params = study.best_params\n",
        "print(\"Best parameters found by Optuna: \", best_params)"
      ],
      "metadata": {
        "colab": {
          "base_uri": "https://localhost:8080/"
        },
        "id": "iFSmWfxUvxCI",
        "outputId": "ee7ca9cc-d15e-45b6-9dd2-584deca32bb0"
      },
      "id": "iFSmWfxUvxCI",
      "execution_count": null,
      "outputs": [
        {
          "output_type": "stream",
          "name": "stderr",
          "text": [
            "[I 2025-02-09 10:22:36,395] A new study created in memory with name: no-name-69d39cbd-998f-47e7-bd41-d65e1d4ee2fb\n",
            "[I 2025-02-09 10:30:52,705] Trial 0 finished with value: -857456250.1195538 and parameters: {'max_depth': 10, 'learning_rate': 0.1481582188478661, 'n_estimators': 943, 'l2_leaf_reg': 0.06721480123848561, 'bagging_temperature': 0.14461214642268172, 'random_strength': 4.122967267004657, 'border_count': 117}. Best is trial 0 with value: -857456250.1195538.\n",
            "[I 2025-02-09 10:31:47,836] Trial 1 finished with value: -802957526.3835422 and parameters: {'max_depth': 7, 'learning_rate': 0.13738790902552409, 'n_estimators': 262, 'l2_leaf_reg': 0.0020639836512623814, 'bagging_temperature': 0.2643008977125484, 'random_strength': 4.978602478650439, 'border_count': 255}. Best is trial 1 with value: -802957526.3835422.\n",
            "[I 2025-02-09 10:42:05,334] Trial 2 finished with value: -880919009.1047513 and parameters: {'max_depth': 11, 'learning_rate': 0.016345358932732118, 'n_estimators': 734, 'l2_leaf_reg': 6.765007523032303, 'bagging_temperature': 0.759679892504121, 'random_strength': 2.779939471017517, 'border_count': 97}. Best is trial 1 with value: -802957526.3835422.\n",
            "[I 2025-02-09 10:46:04,850] Trial 3 finished with value: -1004626331.8520315 and parameters: {'max_depth': 8, 'learning_rate': 0.45400568268135083, 'n_estimators': 813, 'l2_leaf_reg': 0.16880156427967338, 'bagging_temperature': 0.24091798706518142, 'random_strength': 7.356984239014261, 'border_count': 247}. Best is trial 1 with value: -802957526.3835422.\n",
            "[I 2025-02-09 10:55:00,508] Trial 4 finished with value: -898086061.4179051 and parameters: {'max_depth': 11, 'learning_rate': 0.01581877739741163, 'n_estimators': 664, 'l2_leaf_reg': 6.963314797614131, 'bagging_temperature': 0.6756342751268488, 'random_strength': 5.514979899193166, 'border_count': 45}. Best is trial 1 with value: -802957526.3835422.\n",
            "[I 2025-02-09 10:55:08,781] Trial 5 pruned. \n",
            "[I 2025-02-09 10:55:38,712] Trial 6 finished with value: -807118436.329926 and parameters: {'max_depth': 4, 'learning_rate': 0.05009712662230038, 'n_estimators': 231, 'l2_leaf_reg': 0.5037685395899152, 'bagging_temperature': 0.34627490891149537, 'random_strength': 7.680443586528232, 'border_count': 111}. Best is trial 1 with value: -802957526.3835422.\n",
            "[I 2025-02-09 10:56:09,149] Trial 7 pruned. \n",
            "[I 2025-02-09 10:57:01,717] Trial 8 finished with value: -806808532.6071936 and parameters: {'max_depth': 7, 'learning_rate': 0.02847408120079093, 'n_estimators': 250, 'l2_leaf_reg': 1.2562550008077982, 'bagging_temperature': 0.2304582356227326, 'random_strength': 1.7182352168090498, 'border_count': 148}. Best is trial 1 with value: -802957526.3835422.\n",
            "[I 2025-02-09 11:08:22,537] Trial 9 pruned. \n",
            "[I 2025-02-09 11:09:26,596] Trial 10 pruned. \n",
            "[I 2025-02-09 11:10:32,288] Trial 11 finished with value: -728969676.9392692 and parameters: {'max_depth': 6, 'learning_rate': 0.03614535153011844, 'n_estimators': 376, 'l2_leaf_reg': 0.006447102510412668, 'bagging_temperature': 0.03793734010712846, 'random_strength': 1.3834670675771488, 'border_count': 171}. Best is trial 11 with value: -728969676.9392692.\n",
            "[I 2025-02-09 11:11:43,260] Trial 12 finished with value: -808683931.080439 and parameters: {'max_depth': 6, 'learning_rate': 0.18053247510087714, 'n_estimators': 414, 'l2_leaf_reg': 0.0037868466688137283, 'bagging_temperature': 0.01405262656642492, 'random_strength': 3.185541859633072, 'border_count': 194}. Best is trial 11 with value: -728969676.9392692.\n",
            "[I 2025-02-09 11:12:42,466] Trial 13 pruned. \n",
            "[I 2025-02-09 11:16:23,331] Trial 14 finished with value: -776937555.9419848 and parameters: {'max_depth': 9, 'learning_rate': 0.21514916597834566, 'n_estimators': 578, 'l2_leaf_reg': 0.0012691177798176106, 'bagging_temperature': 0.15091012744741497, 'random_strength': 3.1876839329466744, 'border_count': 219}. Best is trial 11 with value: -728969676.9392692.\n",
            "[I 2025-02-09 11:20:01,023] Trial 15 pruned. \n",
            "[I 2025-02-09 11:23:23,687] Trial 16 pruned. \n",
            "[I 2025-02-09 11:24:28,131] Trial 17 finished with value: -702534777.2224448 and parameters: {'max_depth': 5, 'learning_rate': 0.08264512209591546, 'n_estimators': 448, 'l2_leaf_reg': 0.0013472306208687083, 'bagging_temperature': 0.14344105430012774, 'random_strength': 2.3710606591127448, 'border_count': 167}. Best is trial 17 with value: -702534777.2224448.\n",
            "[I 2025-02-09 11:25:15,194] Trial 18 finished with value: -714297275.9913906 and parameters: {'max_depth': 4, 'learning_rate': 0.06860274046593957, 'n_estimators': 404, 'l2_leaf_reg': 0.005231914302075442, 'bagging_temperature': 0.3585214407321018, 'random_strength': 2.2478716800485157, 'border_count': 161}. Best is trial 17 with value: -702534777.2224448.\n",
            "[I 2025-02-09 11:26:10,781] Trial 19 finished with value: -699163825.517715 and parameters: {'max_depth': 4, 'learning_rate': 0.08677459487982953, 'n_estimators': 483, 'l2_leaf_reg': 0.003274264998850439, 'bagging_temperature': 0.3425648995158702, 'random_strength': 2.324943216017849, 'border_count': 76}. Best is trial 19 with value: -699163825.517715.\n",
            "[I 2025-02-09 11:27:22,752] Trial 20 finished with value: -711726586.9894252 and parameters: {'max_depth': 5, 'learning_rate': 0.0864344619153724, 'n_estimators': 498, 'l2_leaf_reg': 0.0029332759290555763, 'bagging_temperature': 0.5734308083130117, 'random_strength': 4.2498026640112725, 'border_count': 74}. Best is trial 19 with value: -699163825.517715.\n",
            "[I 2025-02-09 11:28:31,165] Trial 21 finished with value: -708779915.8115078 and parameters: {'max_depth': 5, 'learning_rate': 0.09071000004579596, 'n_estimators': 480, 'l2_leaf_reg': 0.0030890174682629058, 'bagging_temperature': 0.5812061272350263, 'random_strength': 4.018530894533297, 'border_count': 71}. Best is trial 19 with value: -699163825.517715.\n",
            "[I 2025-02-09 11:30:09,965] Trial 22 finished with value: -792865756.5567081 and parameters: {'max_depth': 5, 'learning_rate': 0.05835041833617388, 'n_estimators': 635, 'l2_leaf_reg': 0.0010118341986988966, 'bagging_temperature': 0.5236229817573934, 'random_strength': 2.350479396749473, 'border_count': 33}. Best is trial 19 with value: -699163825.517715.\n",
            "[I 2025-02-09 11:31:18,809] Trial 23 finished with value: -792140356.3253087 and parameters: {'max_depth': 4, 'learning_rate': 0.1067320450415079, 'n_estimators': 502, 'l2_leaf_reg': 0.029742291092064742, 'bagging_temperature': 0.3719185868962902, 'random_strength': 3.871536476887377, 'border_count': 77}. Best is trial 19 with value: -699163825.517715.\n",
            "[I 2025-02-09 11:32:10,828] Trial 24 finished with value: -760733468.1683047 and parameters: {'max_depth': 5, 'learning_rate': 0.09649016657821138, 'n_estimators': 343, 'l2_leaf_reg': 0.002407857542264944, 'bagging_temperature': 0.8419459844628174, 'random_strength': 6.1925731732203575, 'border_count': 63}. Best is trial 19 with value: -699163825.517715.\n",
            "[I 2025-02-09 11:33:08,630] Trial 25 finished with value: -724751419.4867401 and parameters: {'max_depth': 4, 'learning_rate': 0.04058393333315879, 'n_estimators': 481, 'l2_leaf_reg': 0.009459901562487114, 'bagging_temperature': 0.5761735142514887, 'random_strength': 2.2329203956870174, 'border_count': 136}. Best is trial 19 with value: -699163825.517715.\n",
            "[I 2025-02-09 11:35:53,559] Trial 26 finished with value: -762439582.8713692 and parameters: {'max_depth': 7, 'learning_rate': 0.15274585912220906, 'n_estimators': 690, 'l2_leaf_reg': 0.002434500095934298, 'bagging_temperature': 0.301686744203764, 'random_strength': 3.504986330272855, 'border_count': 93}. Best is trial 19 with value: -699163825.517715.\n",
            "[I 2025-02-09 11:37:51,404] Trial 27 pruned. \n",
            "[I 2025-02-09 11:38:38,441] Trial 28 finished with value: -653419394.0367457 and parameters: {'max_depth': 5, 'learning_rate': 0.1295643155523358, 'n_estimators': 304, 'l2_leaf_reg': 0.015683846010523354, 'bagging_temperature': 0.1863686770153567, 'random_strength': 4.385386925403732, 'border_count': 91}. Best is trial 28 with value: -653419394.0367457.\n",
            "[I 2025-02-09 11:40:45,881] Trial 29 pruned. \n",
            "[I 2025-02-09 11:40:55,177] Trial 30 pruned. \n",
            "[I 2025-02-09 11:41:42,806] Trial 31 finished with value: -757647551.6004252 and parameters: {'max_depth': 5, 'learning_rate': 0.11597952337493059, 'n_estimators': 311, 'l2_leaf_reg': 0.012890595171340665, 'bagging_temperature': 0.23668941640712937, 'random_strength': 4.276416448375061, 'border_count': 82}. Best is trial 28 with value: -653419394.0367457.\n",
            "[I 2025-02-09 11:43:01,826] Trial 32 finished with value: -757825242.876982 and parameters: {'max_depth': 6, 'learning_rate': 0.17716776222656475, 'n_estimators': 451, 'l2_leaf_reg': 0.0034823944486799406, 'bagging_temperature': 0.1826874862369594, 'random_strength': 3.876557719152993, 'border_count': 112}. Best is trial 28 with value: -653419394.0367457.\n",
            "[I 2025-02-09 11:43:36,749] Trial 33 finished with value: -710504826.1402724 and parameters: {'max_depth': 4, 'learning_rate': 0.058191540007607456, 'n_estimators': 272, 'l2_leaf_reg': 0.0018811087526321632, 'bagging_temperature': 0.2907935438201337, 'random_strength': 2.8121079465753285, 'border_count': 49}. Best is trial 28 with value: -653419394.0367457.\n",
            "[I 2025-02-09 11:44:53,243] Trial 34 pruned. \n",
            "[I 2025-02-09 11:45:02,710] Trial 35 finished with value: -727872339.6038715 and parameters: {'max_depth': 5, 'learning_rate': 0.09177528682901097, 'n_estimators': 191, 'l2_leaf_reg': 0.0016179908579594655, 'bagging_temperature': 0.20702074035887175, 'random_strength': 4.63136507006676, 'border_count': 90}. Best is trial 28 with value: -653419394.0367457.\n",
            "[I 2025-02-09 11:45:56,626] Trial 36 pruned. \n",
            "[I 2025-02-09 11:46:05,236] Trial 37 pruned. \n",
            "[I 2025-02-09 11:47:43,149] Trial 38 pruned. \n",
            "[I 2025-02-09 11:51:05,117] Trial 39 pruned. \n",
            "[I 2025-02-09 11:52:12,595] Trial 40 finished with value: -735529567.3781883 and parameters: {'max_depth': 5, 'learning_rate': 0.028913906055978773, 'n_estimators': 452, 'l2_leaf_reg': 0.017324378333503247, 'bagging_temperature': 0.7849600568667943, 'random_strength': 3.6550004832310674, 'border_count': 121}. Best is trial 28 with value: -653419394.0367457.\n",
            "[I 2025-02-09 11:52:42,749] Trial 41 finished with value: -751785077.3562875 and parameters: {'max_depth': 4, 'learning_rate': 0.04912992414888691, 'n_estimators': 228, 'l2_leaf_reg': 0.0018894169848289594, 'bagging_temperature': 0.31836171141143466, 'random_strength': 2.841061810132824, 'border_count': 48}. Best is trial 28 with value: -653419394.0367457.\n",
            "[I 2025-02-09 11:53:20,438] Trial 42 finished with value: -704353627.269396 and parameters: {'max_depth': 4, 'learning_rate': 0.0846269294096097, 'n_estimators': 301, 'l2_leaf_reg': 0.0033149878162677727, 'bagging_temperature': 0.25898960449363123, 'random_strength': 1.8388196455375723, 'border_count': 43}. Best is trial 28 with value: -653419394.0367457.\n",
            "[I 2025-02-09 11:54:34,812] Trial 43 pruned. \n",
            "[I 2025-02-09 11:55:36,066] Trial 44 finished with value: -664210722.6408087 and parameters: {'max_depth': 5, 'learning_rate': 0.10025958094122835, 'n_estimators': 411, 'l2_leaf_reg': 0.003391004708479604, 'bagging_temperature': 0.524213534354996, 'random_strength': 1.9306698973974483, 'border_count': 43}. Best is trial 28 with value: -653419394.0367457.\n",
            "[I 2025-02-09 11:58:18,539] Trial 45 pruned. \n",
            "[I 2025-02-09 11:59:30,004] Trial 46 finished with value: -725793379.3997364 and parameters: {'max_depth': 6, 'learning_rate': 0.03799441475930165, 'n_estimators': 401, 'l2_leaf_reg': 0.0012977451068189173, 'bagging_temperature': 0.19846109192463413, 'random_strength': 1.475194536438626, 'border_count': 55}. Best is trial 28 with value: -653419394.0367457.\n",
            "[I 2025-02-09 12:00:15,493] Trial 47 pruned. \n",
            "[I 2025-02-09 12:01:35,871] Trial 48 pruned. \n",
            "[I 2025-02-09 12:02:38,978] Trial 49 pruned. \n",
            "[I 2025-02-09 12:02:49,085] Trial 50 pruned. \n",
            "[I 2025-02-09 12:04:01,365] Trial 51 finished with value: -694158358.5831773 and parameters: {'max_depth': 5, 'learning_rate': 0.09676195848765756, 'n_estimators': 495, 'l2_leaf_reg': 0.0031267625417804234, 'bagging_temperature': 0.48625657653761367, 'random_strength': 2.042647342062042, 'border_count': 69}. Best is trial 28 with value: -653419394.0367457.\n",
            "[I 2025-02-09 12:05:31,724] Trial 52 pruned. \n",
            "[I 2025-02-09 12:06:54,672] Trial 53 pruned. \n",
            "[I 2025-02-09 12:08:02,527] Trial 54 finished with value: -707766134.3544075 and parameters: {'max_depth': 5, 'learning_rate': 0.08255362870735174, 'n_estimators': 461, 'l2_leaf_reg': 0.0015342458934928626, 'bagging_temperature': 0.25099421360732427, 'random_strength': 1.3000507591278572, 'border_count': 66}. Best is trial 28 with value: -653419394.0367457.\n",
            "[I 2025-02-09 12:08:53,144] Trial 55 finished with value: -719771485.6493542 and parameters: {'max_depth': 4, 'learning_rate': 0.06589218125935253, 'n_estimators': 420, 'l2_leaf_reg': 0.00418810673580756, 'bagging_temperature': 0.21593809312990447, 'random_strength': 2.4303373348322674, 'border_count': 44}. Best is trial 28 with value: -653419394.0367457.\n",
            "[I 2025-02-09 12:09:49,897] Trial 56 pruned. \n",
            "[I 2025-02-09 12:10:51,061] Trial 57 pruned. \n",
            "[I 2025-02-09 12:11:26,674] Trial 58 pruned. \n",
            "[I 2025-02-09 12:13:35,209] Trial 59 pruned. \n",
            "[I 2025-02-09 12:15:06,408] Trial 60 pruned. \n",
            "[I 2025-02-09 12:16:14,924] Trial 61 finished with value: -717697804.6726735 and parameters: {'max_depth': 5, 'learning_rate': 0.08650789121843692, 'n_estimators': 466, 'l2_leaf_reg': 0.0015827230591491923, 'bagging_temperature': 0.28778721291130416, 'random_strength': 1.3949653843839185, 'border_count': 68}. Best is trial 28 with value: -653419394.0367457.\n",
            "[I 2025-02-09 12:17:32,484] Trial 62 pruned. \n",
            "[I 2025-02-09 12:18:31,979] Trial 63 finished with value: -699983332.6452105 and parameters: {'max_depth': 5, 'learning_rate': 0.0746404963491436, 'n_estimators': 397, 'l2_leaf_reg': 0.0014943863091781704, 'bagging_temperature': 0.25415528816621547, 'random_strength': 1.2317032500878524, 'border_count': 61}. Best is trial 28 with value: -653419394.0367457.\n",
            "[I 2025-02-09 12:19:19,501] Trial 64 finished with value: -726594361.6303788 and parameters: {'max_depth': 4, 'learning_rate': 0.07274166591822002, 'n_estimators': 393, 'l2_leaf_reg': 0.0025321053136098306, 'bagging_temperature': 0.3661708722176108, 'random_strength': 1.74714996570458, 'border_count': 59}. Best is trial 28 with value: -653419394.0367457.\n",
            "[I 2025-02-09 12:20:12,065] Trial 65 finished with value: -701814796.1459306 and parameters: {'max_depth': 5, 'learning_rate': 0.10695402175317205, 'n_estimators': 345, 'l2_leaf_reg': 0.00597940781446651, 'bagging_temperature': 0.6527069985996525, 'random_strength': 2.1256205357198663, 'border_count': 78}. Best is trial 28 with value: -653419394.0367457.\n",
            "[I 2025-02-09 12:21:37,837] Trial 66 pruned. \n",
            "[I 2025-02-09 12:23:01,755] Trial 67 pruned. \n",
            "[I 2025-02-09 12:24:15,722] Trial 68 pruned. \n",
            "[I 2025-02-09 12:26:05,166] Trial 69 pruned. \n",
            "[I 2025-02-09 12:28:41,765] Trial 70 pruned. \n",
            "[I 2025-02-09 12:29:19,319] Trial 71 pruned. \n",
            "[I 2025-02-09 12:30:09,684] Trial 72 pruned. \n",
            "[I 2025-02-09 12:30:51,101] Trial 73 finished with value: -714587004.4812366 and parameters: {'max_depth': 5, 'learning_rate': 0.07698120323363698, 'n_estimators': 260, 'l2_leaf_reg': 0.023993249470140962, 'bagging_temperature': 0.09439401561604349, 'random_strength': 2.606317916462931, 'border_count': 169}. Best is trial 28 with value: -653419394.0367457.\n",
            "[I 2025-02-09 12:31:54,102] Trial 74 pruned. \n",
            "[I 2025-02-09 12:32:40,161] Trial 75 pruned. \n",
            "[I 2025-02-09 12:32:48,461] Trial 76 pruned. \n",
            "[I 2025-02-09 12:33:40,719] Trial 77 pruned. \n",
            "[I 2025-02-09 12:35:16,457] Trial 78 pruned. \n",
            "[I 2025-02-09 12:37:17,439] Trial 79 pruned. \n",
            "[I 2025-02-09 12:37:55,504] Trial 80 finished with value: -689949247.8373107 and parameters: {'max_depth': 4, 'learning_rate': 0.10157746963170552, 'n_estimators': 304, 'l2_leaf_reg': 0.005383711889762157, 'bagging_temperature': 0.4320099502287431, 'random_strength': 3.700063450037022, 'border_count': 129}. Best is trial 28 with value: -653419394.0367457.\n",
            "[I 2025-02-09 12:38:33,603] Trial 81 finished with value: -697156906.2158006 and parameters: {'max_depth': 4, 'learning_rate': 0.10031752987305802, 'n_estimators': 305, 'l2_leaf_reg': 0.004693128945330008, 'bagging_temperature': 0.44100272820440506, 'random_strength': 3.654580852209212, 'border_count': 130}. Best is trial 28 with value: -653419394.0367457.\n",
            "[I 2025-02-09 12:39:03,654] Trial 82 pruned. \n",
            "[I 2025-02-09 12:40:03,533] Trial 83 pruned. \n",
            "[I 2025-02-09 12:40:38,294] Trial 84 finished with value: -698503833.1092483 and parameters: {'max_depth': 4, 'learning_rate': 0.09326861195202923, 'n_estimators': 273, 'l2_leaf_reg': 0.005453514099115697, 'bagging_temperature': 0.49455463582627884, 'random_strength': 2.8624923496546675, 'border_count': 115}. Best is trial 28 with value: -653419394.0367457.\n",
            "[I 2025-02-09 12:40:47,389] Trial 85 pruned. \n",
            "[I 2025-02-09 12:41:20,950] Trial 86 pruned. \n",
            "[I 2025-02-09 12:42:00,403] Trial 87 finished with value: -715122526.3955176 and parameters: {'max_depth': 4, 'learning_rate': 0.09848911282019121, 'n_estimators': 317, 'l2_leaf_reg': 0.046708706918722344, 'bagging_temperature': 0.4990788341094055, 'random_strength': 3.776166389231501, 'border_count': 114}. Best is trial 28 with value: -653419394.0367457.\n",
            "[I 2025-02-09 12:42:43,433] Trial 88 pruned. \n",
            "[I 2025-02-09 12:43:28,522] Trial 89 pruned. \n",
            "[I 2025-02-09 12:43:37,308] Trial 90 pruned. \n",
            "[I 2025-02-09 12:44:41,100] Trial 91 finished with value: -694462712.327689 and parameters: {'max_depth': 5, 'learning_rate': 0.08026795924396003, 'n_estimators': 428, 'l2_leaf_reg': 0.0017815707909212845, 'bagging_temperature': 0.49294516488983114, 'random_strength': 4.19305671061447, 'border_count': 127}. Best is trial 28 with value: -653419394.0367457.\n",
            "[I 2025-02-09 12:45:31,506] Trial 92 pruned. \n",
            "[I 2025-02-09 12:46:07,451] Trial 93 pruned. \n",
            "[I 2025-02-09 12:46:53,831] Trial 94 finished with value: -697686933.053377 and parameters: {'max_depth': 4, 'learning_rate': 0.09325229523031431, 'n_estimators': 382, 'l2_leaf_reg': 0.004467505044406658, 'bagging_temperature': 0.5586189789687108, 'random_strength': 3.14810727337061, 'border_count': 134}. Best is trial 28 with value: -653419394.0367457.\n",
            "[I 2025-02-09 12:47:39,767] Trial 95 finished with value: -719965086.4036658 and parameters: {'max_depth': 4, 'learning_rate': 0.09143847878014916, 'n_estimators': 371, 'l2_leaf_reg': 0.004198069167960004, 'bagging_temperature': 0.5631185255248851, 'random_strength': 3.2672250084055743, 'border_count': 139}. Best is trial 28 with value: -653419394.0367457.\n",
            "[I 2025-02-09 12:48:31,482] Trial 96 finished with value: -692188597.3771259 and parameters: {'max_depth': 4, 'learning_rate': 0.06773731215048052, 'n_estimators': 433, 'l2_leaf_reg': 0.007994178829546322, 'bagging_temperature': 0.5292320943372907, 'random_strength': 4.264639214521216, 'border_count': 119}. Best is trial 28 with value: -653419394.0367457.\n",
            "[I 2025-02-09 12:49:24,558] Trial 97 pruned. \n",
            "[I 2025-02-09 12:50:20,111] Trial 98 finished with value: -705968686.6512935 and parameters: {'max_depth': 4, 'learning_rate': 0.06985050517608454, 'n_estimators': 472, 'l2_leaf_reg': 0.009085895807997518, 'bagging_temperature': 0.5351300692695236, 'random_strength': 4.849948542254636, 'border_count': 145}. Best is trial 28 with value: -653419394.0367457.\n",
            "[I 2025-02-09 12:51:31,120] Trial 99 pruned. \n"
          ]
        },
        {
          "output_type": "stream",
          "name": "stdout",
          "text": [
            "Best parameters found by Optuna:  {'max_depth': 5, 'learning_rate': 0.1295643155523358, 'n_estimators': 304, 'l2_leaf_reg': 0.015683846010523354, 'bagging_temperature': 0.1863686770153567, 'random_strength': 4.385386925403732, 'border_count': 91}\n"
          ]
        }
      ]
    },
    {
      "cell_type": "code",
      "source": [
        "# Define the CatBoost model with the best parameters\n",
        "cat_model = cb.CatBoostRegressor(**best_params, random_seed=42, verbose=200, early_stopping_rounds=10)\n",
        "\n",
        "# Train the model with validation set\n",
        "cat_model.fit(X_cat_train, y_train, eval_set=(X_cat_val, y_val), cat_features=cat_features)\n",
        "\n",
        "# Evaluate on validation set\n",
        "cat_val_pred = cat_model.predict(X_cat_val)\n",
        "cat_mse = mean_squared_error(y_val, cat_val_pred)\n",
        "cat_r2 = r2_score(y_val, cat_val_pred)\n",
        "\n",
        "print(f\"MSE on validation set: {cat_mse}\")\n",
        "print(f\"R2 on validation set: {cat_r2}\")"
      ],
      "metadata": {
        "colab": {
          "base_uri": "https://localhost:8080/"
        },
        "id": "hTNQzX5Pxkph",
        "outputId": "163e265a-8469-4801-9e32-4796ff61e87a"
      },
      "id": "hTNQzX5Pxkph",
      "execution_count": null,
      "outputs": [
        {
          "output_type": "stream",
          "name": "stdout",
          "text": [
            "0:\tlearn: 71744.3115264\ttest: 71274.2183807\tbest: 71274.2183807 (0)\ttotal: 10.6ms\tremaining: 3.21s\n",
            "Stopped by overfitting detector  (10 iterations wait)\n",
            "\n",
            "bestTest = 21226.59237\n",
            "bestIteration = 108\n",
            "\n",
            "Shrink model to first 109 iterations.\n",
            "MSE on validation set: 450568223.55186427\n",
            "R2 on validation set: 0.9230939238898156\n"
          ]
        }
      ]
    }
  ],
  "metadata": {
    "kaggle": {
      "accelerator": "gpu",
      "dataSources": [
        {
          "datasetId": 3462333,
          "sourceId": 6051848,
          "sourceType": "datasetVersion"
        }
      ],
      "dockerImageVersionId": 30746,
      "isGpuEnabled": true,
      "isInternetEnabled": true,
      "language": "python",
      "sourceType": "notebook"
    },
    "kernelspec": {
      "display_name": "Python 3",
      "name": "python3"
    },
    "language_info": {
      "codemirror_mode": {
        "name": "ipython",
        "version": 3
      },
      "file_extension": ".py",
      "mimetype": "text/x-python",
      "name": "python",
      "nbconvert_exporter": "python",
      "pygments_lexer": "ipython3",
      "version": "3.10.13"
    },
    "papermill": {
      "default_parameters": {},
      "duration": 10984.840802,
      "end_time": "2024-10-11T04:36:45.694048",
      "environment_variables": {},
      "exception": null,
      "input_path": "__notebook__.ipynb",
      "output_path": "__notebook__.ipynb",
      "parameters": {},
      "start_time": "2024-10-11T01:33:40.853246",
      "version": "2.5.0"
    },
    "colab": {
      "provenance": [],
      "gpuType": "A100",
      "include_colab_link": true
    },
    "accelerator": "GPU"
  },
  "nbformat": 4,
  "nbformat_minor": 5
}